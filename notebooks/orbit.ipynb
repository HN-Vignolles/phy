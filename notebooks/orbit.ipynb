{
 "cells": [
  {
   "cell_type": "code",
   "execution_count": 1,
   "metadata": {},
   "outputs": [
    {
     "name": "stdout",
     "output_type": "stream",
     "text": [
      "[-1.0000000e+00  1.2246468e-16]\n"
     ]
    }
   ],
   "source": [
    "# Based on the chapter \"Central Forces and Planetary Motion\" from Spiegel - Theoretical Mechanics\n",
    "\n",
    "# Warning: using non ASCII identifiers\n",
    "\n",
    "import numpy as np\n",
    "\n",
    "u_i = np.array([1, 0])\n",
    "u_j = np.array([0, 1])\n",
    "u_r = lambda θ:  np.cos(θ)*u_i + np.sin(θ)*u_j\n",
    "u_θ = lambda θ: -np.sin(θ)*u_i + np.cos(θ)*u_j\n",
    "# def plot_v: velocity vector\n",
    "# def plot_a: acceleration\n",
    "\n",
    "M = 1.98847e30\n",
    "m = 5.9722e24\n",
    "G = 6.674e-11\n",
    "K = G*M*m\n",
    "# f(r) = -K/r^2, central force earth->sun\n",
    "h = lambda r,v: r*v  # |position|*|velocity|\n",
    "U = lambda r: -K/r   # potential\n",
    "\n",
    "# problem 5.9\n",
    "E = lambda v,r: 0.5*m*v**2 + U(r)  # Energy\n",
    "\n",
    "# problem 5.13\n",
    "r_vec = lambda h,θ,C: 1/(K/(m*h**2) + C*np.cos(θ))\n",
    "\n",
    "# problem 5.14\n",
    "C = lambda h,E: np.sqrt(K**2/(m**2+h**4) + 2*E/(m*h**2))\n",
    "\n",
    "# Ej. \n",
    "h1 = h(23,24)\n",
    "E1 = E(23,12)\n",
    "\n",
    "\n",
    "print(u_r(np.pi))"
   ]
  }
 ],
 "metadata": {
  "kernelspec": {
   "display_name": "Python 3",
   "language": "python",
   "name": "python3"
  },
  "language_info": {
   "codemirror_mode": {
    "name": "ipython",
    "version": 3
   },
   "file_extension": ".py",
   "mimetype": "text/x-python",
   "name": "python",
   "nbconvert_exporter": "python",
   "pygments_lexer": "ipython3",
   "version": "3.10.8"
  },
  "orig_nbformat": 4
 },
 "nbformat": 4,
 "nbformat_minor": 2
}
